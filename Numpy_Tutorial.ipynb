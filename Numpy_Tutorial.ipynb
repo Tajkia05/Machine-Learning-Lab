{
  "nbformat": 4,
  "nbformat_minor": 0,
  "metadata": {
    "colab": {
      "provenance": []
    },
    "kernelspec": {
      "name": "python3",
      "display_name": "Python 3"
    },
    "language_info": {
      "name": "python"
    }
  },
  "cells": [
    {
      "cell_type": "markdown",
      "source": [
        "Numpy - Numerical Python\n",
        "\n",
        "1.   Used for various mathematical operations (matrix, array etc)\n",
        "2.   Faster operations\n",
        "\n",
        "\n"
      ],
      "metadata": {
        "id": "F9PL8Q4CsnU2"
      }
    },
    {
      "cell_type": "markdown",
      "source": [
        "Importing Numpy"
      ],
      "metadata": {
        "id": "2r301wwys8lF"
      }
    },
    {
      "cell_type": "code",
      "source": [
        "import numpy as np"
      ],
      "metadata": {
        "id": "JLDAgqCftBi1"
      },
      "execution_count": null,
      "outputs": []
    },
    {
      "cell_type": "markdown",
      "source": [
        "Numpy Array vs List"
      ],
      "metadata": {
        "id": "F8PwgXeVtZHk"
      }
    },
    {
      "cell_type": "code",
      "source": [
        "list_test = [1,2,3,4,5]\n",
        "print(list_test)\n",
        "type(list_test)"
      ],
      "metadata": {
        "colab": {
          "base_uri": "https://localhost:8080/"
        },
        "id": "1ZyWyOvrtYrN",
        "outputId": "fff228f8-c8bf-4121-cd31-a14f5ed27e20"
      },
      "execution_count": null,
      "outputs": [
        {
          "output_type": "stream",
          "name": "stdout",
          "text": [
            "[1, 2, 3, 4, 5]\n"
          ]
        },
        {
          "output_type": "execute_result",
          "data": {
            "text/plain": [
              "list"
            ]
          },
          "metadata": {},
          "execution_count": 2
        }
      ]
    },
    {
      "cell_type": "code",
      "source": [
        "np_array = np.array([1,2,3,4,5])\n",
        "print(np_array)\n",
        "type(np_array)"
      ],
      "metadata": {
        "colab": {
          "base_uri": "https://localhost:8080/"
        },
        "id": "0d3a_wJmtW5z",
        "outputId": "83d2b0dd-9375-4365-a65f-81097f5ff680"
      },
      "execution_count": null,
      "outputs": [
        {
          "output_type": "stream",
          "name": "stdout",
          "text": [
            "[1 2 3 4 5]\n"
          ]
        },
        {
          "output_type": "execute_result",
          "data": {
            "text/plain": [
              "numpy.ndarray"
            ]
          },
          "metadata": {},
          "execution_count": 3
        }
      ]
    },
    {
      "cell_type": "markdown",
      "source": [
        "Creating a 1-dimensional array"
      ],
      "metadata": {
        "id": "4btUk1OStwML"
      }
    },
    {
      "cell_type": "code",
      "source": [
        "a = np.array([1,2,3,4])\n",
        "print(a)\n",
        "#prints the size of array (row, col)\n",
        "print(a.shape)"
      ],
      "metadata": {
        "colab": {
          "base_uri": "https://localhost:8080/"
        },
        "id": "YJYhose4t_0_",
        "outputId": "e8d15f8d-cbde-41be-91b0-eebb635ff72f"
      },
      "execution_count": null,
      "outputs": [
        {
          "output_type": "stream",
          "name": "stdout",
          "text": [
            "[1 2 3 4]\n",
            "(4,)\n"
          ]
        }
      ]
    },
    {
      "cell_type": "markdown",
      "source": [
        "Creating a 2-dimensional array"
      ],
      "metadata": {
        "id": "KTnxC54buJwj"
      }
    },
    {
      "cell_type": "code",
      "source": [
        "b = np.array([(1,2,3,4),(5,6,7,8)])\n",
        "print(b)\n",
        "print(b.shape)"
      ],
      "metadata": {
        "colab": {
          "base_uri": "https://localhost:8080/"
        },
        "id": "mRLoKZ-5uMjN",
        "outputId": "a7ce554d-c3c0-419f-ca68-5b4f3925cced"
      },
      "execution_count": null,
      "outputs": [
        {
          "output_type": "stream",
          "name": "stdout",
          "text": [
            "[[1 2 3 4]\n",
            " [5 6 7 8]\n",
            " [5 6 7 8]\n",
            " [5 6 7 8]\n",
            " [5 6 7 8]]\n",
            "(5, 4)\n"
          ]
        }
      ]
    },
    {
      "cell_type": "markdown",
      "source": [
        "Floating point values in Array"
      ],
      "metadata": {
        "id": "kx6OtQ1Zuy3c"
      }
    },
    {
      "cell_type": "code",
      "source": [
        "#dtype used to specify the datatype\n",
        "c = np.array([(1,2,3,4),(5,6,7,8)],dtype=float)\n",
        "print(c)"
      ],
      "metadata": {
        "colab": {
          "base_uri": "https://localhost:8080/"
        },
        "id": "ZEN-WVjyu1c8",
        "outputId": "9de253df-9fa6-494e-9575-bdfda67614f8"
      },
      "execution_count": null,
      "outputs": [
        {
          "output_type": "stream",
          "name": "stdout",
          "text": [
            "[[1. 2. 3. 4.]\n",
            " [5. 6. 7. 8.]]\n"
          ]
        }
      ]
    },
    {
      "cell_type": "code",
      "source": [],
      "metadata": {
        "id": "pAZKqxvfvFxM"
      },
      "execution_count": null,
      "outputs": []
    },
    {
      "cell_type": "markdown",
      "source": [
        "Array Sort"
      ],
      "metadata": {
        "id": "uxE8CG6AwbHV"
      }
    },
    {
      "cell_type": "code",
      "source": [
        "arr = np.array([3, 2, 0, 1])\n",
        "#ascending\n",
        "print(np.sort(arr))\n",
        "#descending\n",
        "print(np.sort(arr)[::-1])\n",
        "\n"
      ],
      "metadata": {
        "colab": {
          "base_uri": "https://localhost:8080/"
        },
        "id": "vFGJZvFwwe-W",
        "outputId": "98f6765f-8a4a-44c4-9260-7524a998c332"
      },
      "execution_count": null,
      "outputs": [
        {
          "output_type": "stream",
          "name": "stdout",
          "text": [
            "[0 1 2 3]\n",
            "[3 2 1 0]\n"
          ]
        }
      ]
    },
    {
      "cell_type": "markdown",
      "source": [
        "Numpy Random"
      ],
      "metadata": {
        "id": "PLxQ9Tp6z-tN"
      }
    },
    {
      "cell_type": "code",
      "source": [
        "#prints a random number\n",
        "from numpy import random\n",
        "\n",
        "x = random.randint(100)\n",
        "print(x)\n",
        "\n",
        "\n",
        "#float (0 to 1)\n",
        "x = random.rand()\n",
        "print(x)\n"
      ],
      "metadata": {
        "colab": {
          "base_uri": "https://localhost:8080/"
        },
        "id": "QND4vu8k0EEV",
        "outputId": "002ed420-c3a3-460a-ab56-2e08dcb0c2c9"
      },
      "execution_count": null,
      "outputs": [
        {
          "output_type": "stream",
          "name": "stdout",
          "text": [
            "32\n",
            "0.4199738097524105\n"
          ]
        }
      ]
    }
  ]
}